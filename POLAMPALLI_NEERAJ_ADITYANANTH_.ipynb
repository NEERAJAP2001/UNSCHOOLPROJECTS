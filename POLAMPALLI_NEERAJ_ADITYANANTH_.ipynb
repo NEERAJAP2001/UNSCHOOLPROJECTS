{
  "nbformat": 4,
  "nbformat_minor": 0,
  "metadata": {
    "kernelspec": {
      "display_name": "Python 3.5",
      "name": "python3",
      "language": "python"
    },
    "language_info": {
      "mimetype": "text/x-python",
      "nbconvert_exporter": "python",
      "version": "3.5.5",
      "name": "python",
      "pygments_lexer": "ipython3",
      "file_extension": ".py",
      "codemirror_mode": {
        "version": 3,
        "name": "ipython"
      }
    },
    "colab": {
      "name": "POLAMPALLI NEERAJ ADITYANANTH .ipynb",
      "provenance": [],
      "collapsed_sections": []
    }
  },
  "cells": [
    {
      "cell_type": "markdown",
      "metadata": {
        "button": false,
        "new_sheet": false,
        "run_control": {
          "read_only": false
        },
        "id": "r8Pbd570A9SI",
        "colab_type": "text"
      },
      "source": [
        "This Mini Project will give you a glimpse of **\"How to do a Real World Data science Project!\"**\n",
        "\n",
        "Here are few steps:\n",
        "\n",
        "\n",
        "*   Import necessary libraries and modules\n",
        "(you need not to know every library at the start,you can always add them later)\n",
        "*   Download the dataset\n",
        "*   Load the Dataset by using Pandas\n",
        "*   clean and understand the Data set \n",
        "*   understand the Data set more by Visualization\n",
        "*   Start Pre-processing of the Data set\n",
        "*   Come to conclusion whether its classification/clustering\n",
        "*   **apply machine learning algorithms related to classification/clustering (only 1 for now)** and evaluate the algorithm using different matrices like f1_score,jaccard-index,log_loss.\n",
        "\n",
        "\n",
        "Choose any one of the Machine Learning Algorithm:\n",
        "\n",
        "**1.k-nearest neighbors |\n",
        "2.Decision trees  |\n",
        "3.Support Vector Machine  |\n",
        "4.Logistic Regression |**  \n",
        "\n"
      ]
    },
    {
      "cell_type": "markdown",
      "metadata": {
        "id": "V86gjLMFELit",
        "colab_type": "text"
      },
      "source": [
        "# Import necessary libraries and modules\n",
        "(you need not to know every library at the start,you can always add them later)"
      ]
    },
    {
      "cell_type": "code",
      "metadata": {
        "button": false,
        "new_sheet": false,
        "run_control": {
          "read_only": false
        },
        "id": "iJmroaapA9SN",
        "colab_type": "code",
        "colab": {}
      },
      "source": [
        "import itertools\n",
        "import numpy as np\n",
        "import matplotlib.pyplot as plt\n",
        "from matplotlib.ticker import NullFormatter\n",
        "import pandas as pd\n",
        "import numpy as np\n",
        "import matplotlib.ticker as ticker\n",
        "from sklearn import preprocessing\n",
        "%matplotlib inline"
      ],
      "execution_count": 1,
      "outputs": []
    },
    {
      "cell_type": "markdown",
      "metadata": {
        "button": false,
        "new_sheet": false,
        "run_control": {
          "read_only": false
        },
        "id": "jFXMWUcAA9Sa",
        "colab_type": "text"
      },
      "source": [
        "# Download the dataset"
      ]
    },
    {
      "cell_type": "code",
      "metadata": {
        "button": false,
        "new_sheet": false,
        "run_control": {
          "read_only": false
        },
        "id": "06nlx9wvA9Sd",
        "colab_type": "code",
        "colab": {
          "base_uri": "https://localhost:8080/",
          "height": 201
        },
        "outputId": "73a26f12-8c19-40a0-cca9-0685c905f7e2"
      },
      "source": [
        "!wget -O loan_train.csv https://s3-api.us-geo.objectstorage.softlayer.net/cf-courses-data/CognitiveClass/ML0101ENv3/labs/loan_train.csv"
      ],
      "execution_count": 2,
      "outputs": [
        {
          "output_type": "stream",
          "text": [
            "--2020-08-16 09:44:40--  https://s3-api.us-geo.objectstorage.softlayer.net/cf-courses-data/CognitiveClass/ML0101ENv3/labs/loan_train.csv\n",
            "Resolving s3-api.us-geo.objectstorage.softlayer.net (s3-api.us-geo.objectstorage.softlayer.net)... 67.228.254.196\n",
            "Connecting to s3-api.us-geo.objectstorage.softlayer.net (s3-api.us-geo.objectstorage.softlayer.net)|67.228.254.196|:443... connected.\n",
            "HTTP request sent, awaiting response... 200 OK\n",
            "Length: 23101 (23K) [text/csv]\n",
            "Saving to: ‘loan_train.csv’\n",
            "\n",
            "\rloan_train.csv        0%[                    ]       0  --.-KB/s               \rloan_train.csv      100%[===================>]  22.56K  --.-KB/s    in 0.08s   \n",
            "\n",
            "2020-08-16 09:44:40 (271 KB/s) - ‘loan_train.csv’ saved [23101/23101]\n",
            "\n"
          ],
          "name": "stdout"
        }
      ]
    },
    {
      "cell_type": "markdown",
      "metadata": {
        "button": false,
        "new_sheet": false,
        "run_control": {
          "read_only": false
        },
        "id": "KWvM6uBcA9SY",
        "colab_type": "text"
      },
      "source": [
        "This dataset is about past loans. The __Loan_train.csv__ data set includes details of 346 customers whose loan are already paid off or defaulted. It includes following fields:\n",
        "\n",
        "| Field          | Description                                                                           |\n",
        "|----------------|---------------------------------------------------------------------------------------|\n",
        "| Loan_status    | Whether a loan is paid off on in collection                                           |\n",
        "| Principal      | Basic principal loan amount at the                                                    |\n",
        "| Terms          | Origination terms which can be weekly (7 days), biweekly, and monthly payoff schedule |\n",
        "| Effective_date | When the loan got originated and took effects                                         |\n",
        "| Due_date       | Since it’s one-time payoff schedule, each loan has one single due date                |\n",
        "| Age            | Age of applicant                                                                      |\n",
        "| Education      | Education of applicant                                                                |\n",
        "| Gender         | The gender of applicant                                                               |"
      ]
    },
    {
      "cell_type": "markdown",
      "metadata": {
        "id": "EPDI3RJRE-pf",
        "colab_type": "text"
      },
      "source": [
        "#   Load the Dataset by using Pandas\n"
      ]
    },
    {
      "cell_type": "code",
      "metadata": {
        "button": false,
        "new_sheet": false,
        "run_control": {
          "read_only": false
        },
        "id": "NjoTv_YGA9So",
        "colab_type": "code",
        "colab": {}
      },
      "source": [
        "df = pd.read_csv('/content/loan_train.csv')\n"
      ],
      "execution_count": 3,
      "outputs": []
    },
    {
      "cell_type": "markdown",
      "metadata": {
        "id": "yVvEuCqCFLeo",
        "colab_type": "text"
      },
      "source": [
        "# clean and understand the Data set "
      ]
    },
    {
      "cell_type": "code",
      "metadata": {
        "id": "aojuffchFQZX",
        "colab_type": "code",
        "colab": {
          "base_uri": "https://localhost:8080/",
          "height": 196
        },
        "outputId": "06ba6afd-a500-4f6d-baf9-0d28b131ba00"
      },
      "source": [
        "#see first 5 rows of your dataframe\n",
        "\n",
        "df.head()"
      ],
      "execution_count": 4,
      "outputs": [
        {
          "output_type": "execute_result",
          "data": {
            "text/html": [
              "<div>\n",
              "<style scoped>\n",
              "    .dataframe tbody tr th:only-of-type {\n",
              "        vertical-align: middle;\n",
              "    }\n",
              "\n",
              "    .dataframe tbody tr th {\n",
              "        vertical-align: top;\n",
              "    }\n",
              "\n",
              "    .dataframe thead th {\n",
              "        text-align: right;\n",
              "    }\n",
              "</style>\n",
              "<table border=\"1\" class=\"dataframe\">\n",
              "  <thead>\n",
              "    <tr style=\"text-align: right;\">\n",
              "      <th></th>\n",
              "      <th>Unnamed: 0</th>\n",
              "      <th>Unnamed: 0.1</th>\n",
              "      <th>loan_status</th>\n",
              "      <th>Principal</th>\n",
              "      <th>terms</th>\n",
              "      <th>effective_date</th>\n",
              "      <th>due_date</th>\n",
              "      <th>age</th>\n",
              "      <th>education</th>\n",
              "      <th>Gender</th>\n",
              "    </tr>\n",
              "  </thead>\n",
              "  <tbody>\n",
              "    <tr>\n",
              "      <th>0</th>\n",
              "      <td>0</td>\n",
              "      <td>0</td>\n",
              "      <td>PAIDOFF</td>\n",
              "      <td>1000</td>\n",
              "      <td>30</td>\n",
              "      <td>9/8/2016</td>\n",
              "      <td>10/7/2016</td>\n",
              "      <td>45</td>\n",
              "      <td>High School or Below</td>\n",
              "      <td>male</td>\n",
              "    </tr>\n",
              "    <tr>\n",
              "      <th>1</th>\n",
              "      <td>2</td>\n",
              "      <td>2</td>\n",
              "      <td>PAIDOFF</td>\n",
              "      <td>1000</td>\n",
              "      <td>30</td>\n",
              "      <td>9/8/2016</td>\n",
              "      <td>10/7/2016</td>\n",
              "      <td>33</td>\n",
              "      <td>Bechalor</td>\n",
              "      <td>female</td>\n",
              "    </tr>\n",
              "    <tr>\n",
              "      <th>2</th>\n",
              "      <td>3</td>\n",
              "      <td>3</td>\n",
              "      <td>PAIDOFF</td>\n",
              "      <td>1000</td>\n",
              "      <td>15</td>\n",
              "      <td>9/8/2016</td>\n",
              "      <td>9/22/2016</td>\n",
              "      <td>27</td>\n",
              "      <td>college</td>\n",
              "      <td>male</td>\n",
              "    </tr>\n",
              "    <tr>\n",
              "      <th>3</th>\n",
              "      <td>4</td>\n",
              "      <td>4</td>\n",
              "      <td>PAIDOFF</td>\n",
              "      <td>1000</td>\n",
              "      <td>30</td>\n",
              "      <td>9/9/2016</td>\n",
              "      <td>10/8/2016</td>\n",
              "      <td>28</td>\n",
              "      <td>college</td>\n",
              "      <td>female</td>\n",
              "    </tr>\n",
              "    <tr>\n",
              "      <th>4</th>\n",
              "      <td>6</td>\n",
              "      <td>6</td>\n",
              "      <td>PAIDOFF</td>\n",
              "      <td>1000</td>\n",
              "      <td>30</td>\n",
              "      <td>9/9/2016</td>\n",
              "      <td>10/8/2016</td>\n",
              "      <td>29</td>\n",
              "      <td>college</td>\n",
              "      <td>male</td>\n",
              "    </tr>\n",
              "  </tbody>\n",
              "</table>\n",
              "</div>"
            ],
            "text/plain": [
              "   Unnamed: 0  Unnamed: 0.1 loan_status  ...  age             education  Gender\n",
              "0           0             0     PAIDOFF  ...   45  High School or Below    male\n",
              "1           2             2     PAIDOFF  ...   33              Bechalor  female\n",
              "2           3             3     PAIDOFF  ...   27               college    male\n",
              "3           4             4     PAIDOFF  ...   28               college  female\n",
              "4           6             6     PAIDOFF  ...   29               college    male\n",
              "\n",
              "[5 rows x 10 columns]"
            ]
          },
          "metadata": {
            "tags": []
          },
          "execution_count": 4
        }
      ]
    },
    {
      "cell_type": "code",
      "metadata": {
        "id": "T2N-KnJsFRWo",
        "colab_type": "code",
        "colab": {
          "base_uri": "https://localhost:8080/",
          "height": 33
        },
        "outputId": "3d98d27f-5412-4c22-ec2b-b6cd8da2cbcf"
      },
      "source": [
        "#see shape of your dataframe\n",
        "\n",
        "df.shape"
      ],
      "execution_count": 5,
      "outputs": [
        {
          "output_type": "execute_result",
          "data": {
            "text/plain": [
              "(346, 10)"
            ]
          },
          "metadata": {
            "tags": []
          },
          "execution_count": 5
        }
      ]
    },
    {
      "cell_type": "code",
      "metadata": {
        "id": "O9ddCkxwNpLx",
        "colab_type": "code",
        "colab": {}
      },
      "source": [
        "from sklearn import preprocessing\n",
        "le=preprocessing.LabelEncoder()\n",
        "df['loan_status']=le.fit_transform(df['loan_status'])\n",
        "df['Gender']=le.fit_transform(df['Gender'])\n",
        "df['education']=le.fit_transform(df['education'])\n"
      ],
      "execution_count": 6,
      "outputs": []
    },
    {
      "cell_type": "markdown",
      "metadata": {
        "button": false,
        "new_sheet": false,
        "run_control": {
          "read_only": false
        },
        "id": "-gdvmKh0A9S5",
        "colab_type": "text"
      },
      "source": [
        "### Convert to date time object "
      ]
    },
    {
      "cell_type": "code",
      "metadata": {
        "id": "i7VsYf_S-CgS",
        "colab_type": "code",
        "colab": {}
      },
      "source": [
        "#convert both due_date and effective_date to datetime object\n",
        "\n",
        "from datetime import datetime\n",
        "\n",
        "\n",
        "\n",
        "\n",
        "for i in range(len(df)):\n",
        "\n",
        "  date_d2=datetime.strptime(df['effective_date'][i], '%m/%d/%Y')\n",
        "  date_d3=datetime.strptime(df['due_date'][i],'%m/%d/%Y')\n",
        "\n"
      ],
      "execution_count": 7,
      "outputs": []
    },
    {
      "cell_type": "markdown",
      "metadata": {
        "button": false,
        "new_sheet": false,
        "run_control": {
          "read_only": false
        },
        "id": "Rjfj2n-XA9TE",
        "colab_type": "text"
      },
      "source": [
        "# understand the Data set more by Visualization\n",
        "\n"
      ]
    },
    {
      "cell_type": "markdown",
      "metadata": {
        "button": false,
        "new_sheet": false,
        "run_control": {
          "read_only": false
        },
        "id": "LdNuHFd1A9TG",
        "colab_type": "text"
      },
      "source": [
        "Let’s see how many of each class is in our data set "
      ]
    },
    {
      "cell_type": "code",
      "metadata": {
        "button": false,
        "new_sheet": false,
        "run_control": {
          "read_only": false
        },
        "id": "hy64myEnA9TI",
        "colab_type": "code",
        "colab": {
          "base_uri": "https://localhost:8080/",
          "height": 67
        },
        "outputId": "48bc8d5e-d683-4a18-b302-4e98fa59b5aa"
      },
      "source": [
        "# use value counts to see how many each class count is present in the dataframe\n",
        "\n",
        "\n",
        "df['loan_status'].value_counts()"
      ],
      "execution_count": 8,
      "outputs": [
        {
          "output_type": "execute_result",
          "data": {
            "text/plain": [
              "1    260\n",
              "0     86\n",
              "Name: loan_status, dtype: int64"
            ]
          },
          "metadata": {
            "tags": []
          },
          "execution_count": 8
        }
      ]
    },
    {
      "cell_type": "markdown",
      "metadata": {
        "button": false,
        "new_sheet": false,
        "run_control": {
          "read_only": false
        },
        "id": "CVszfoZLA9TO",
        "colab_type": "text"
      },
      "source": [
        "260 people have paid off the loan on time while 86 have gone into collection \n"
      ]
    },
    {
      "cell_type": "markdown",
      "metadata": {
        "id": "jMIyu0nuA9TQ",
        "colab_type": "text"
      },
      "source": [
        "Lets plot some columns to underestand data better:"
      ]
    },
    {
      "cell_type": "code",
      "metadata": {
        "id": "2UVNwzxEA9Ta",
        "colab_type": "code",
        "colab": {
          "base_uri": "https://localhost:8080/",
          "height": 349
        },
        "outputId": "080601a8-8477-4362-f653-8c5512344af9"
      },
      "source": [
        "import seaborn as sns\n",
        "# plot loan status paidoff/collected by gender i.e male and female\n",
        "\n",
        "\n",
        "\n",
        "sns.barplot(x='Gender', y = 'loan_status', hue = 'education', data = df)\n",
        "\n",
        "\n",
        "\n",
        "\n",
        "\n"
      ],
      "execution_count": 9,
      "outputs": [
        {
          "output_type": "stream",
          "text": [
            "/usr/local/lib/python3.6/dist-packages/statsmodels/tools/_testing.py:19: FutureWarning: pandas.util.testing is deprecated. Use the functions in the public API at pandas.testing instead.\n",
            "  import pandas.util.testing as tm\n"
          ],
          "name": "stderr"
        },
        {
          "output_type": "execute_result",
          "data": {
            "text/plain": [
              "<matplotlib.axes._subplots.AxesSubplot at 0x7f243d0f04a8>"
            ]
          },
          "metadata": {
            "tags": []
          },
          "execution_count": 9
        },
        {
          "output_type": "display_data",
          "data": {
            "image/png": "[encoded data removed]",
            "text/plain": [
              "<Figure size 432x288 with 1 Axes>"
            ]
          },
          "metadata": {
            "tags": [],
            "needs_background": "light"
          }
        }
      ]
    },
    {
      "cell_type": "code",
      "metadata": {
        "button": false,
        "new_sheet": false,
        "run_control": {
          "read_only": false
        },
        "id": "CWSm016bA9Tg",
        "colab_type": "code",
        "colab": {
          "base_uri": "https://localhost:8080/",
          "height": 296
        },
        "outputId": "0e35ae88-3d80-4808-ee77-4966d1310a80"
      },
      "source": [
        "# plot loan paidoff/collected by gender i.e male and female along with their age\n",
        "\n",
        "sns.barplot(x='age',y='loan_status',data=df)\n"
      ],
      "execution_count": 10,
      "outputs": [
        {
          "output_type": "execute_result",
          "data": {
            "text/plain": [
              "<matplotlib.axes._subplots.AxesSubplot at 0x7f243cfe9518>"
            ]
          },
          "metadata": {
            "tags": []
          },
          "execution_count": 10
        },
        {
          "output_type": "display_data",
          "data": {
            "image/png": "[encoded data removed]",
            "text/plain": [
              "<Figure size 432x288 with 1 Axes>"
            ]
          },
          "metadata": {
            "tags": [],
            "needs_background": "light"
          }
        }
      ]
    },
    {
      "cell_type": "markdown",
      "metadata": {
        "button": false,
        "new_sheet": false,
        "run_control": {
          "read_only": false
        },
        "id": "X_lK5b_hA9Tp",
        "colab_type": "text"
      },
      "source": [
        "# Start Pre-processing of the Data set\n",
        "##### Pre-processing:  Feature selection/extraction"
      ]
    },
    {
      "cell_type": "markdown",
      "metadata": {
        "button": false,
        "new_sheet": false,
        "run_control": {
          "read_only": false
        },
        "id": "scKOpDEpA9Tr",
        "colab_type": "text"
      },
      "source": [
        "### Lets look at the day of the week people get the loan "
      ]
    },
    {
      "cell_type": "code",
      "metadata": {
        "id": "UBuojn-w_BAG",
        "colab_type": "code",
        "colab": {
          "base_uri": "https://localhost:8080/",
          "height": 296
        },
        "outputId": "2e730908-a500-4ab4-865c-f8f61f856e77"
      },
      "source": [
        "#plot loan status of male and female on different days of a Week!\n",
        "sns.barplot(x='Gender', y = 'loan_status', data = df)\n",
        "\n",
        "\n",
        "\n"
      ],
      "execution_count": 11,
      "outputs": [
        {
          "output_type": "execute_result",
          "data": {
            "text/plain": [
              "<matplotlib.axes._subplots.AxesSubplot at 0x7f243ca14080>"
            ]
          },
          "metadata": {
            "tags": []
          },
          "execution_count": 11
        },
        {
          "output_type": "display_data",
          "data": {
            "image/png": "[encoded data removed]",
            "text/plain": [
              "<Figure size 432x288 with 1 Axes>"
            ]
          },
          "metadata": {
            "tags": [],
            "needs_background": "light"
          }
        }
      ]
    },
    {
      "cell_type": "markdown",
      "metadata": {
        "button": false,
        "new_sheet": false,
        "run_control": {
          "read_only": false
        },
        "id": "B-eIqkbWA9Tz",
        "colab_type": "text"
      },
      "source": [
        "We see that people who get the loan at the end of the week dont pay it off, so lets use Feature binarization to set a threshold values less then day 4 "
      ]
    },
    {
      "cell_type": "code",
      "metadata": {
        "id": "Wd4qyGJlctX6",
        "colab_type": "code",
        "colab": {}
      },
      "source": [
        "\n",
        "df['weekend'] = df['dayofweek'].apply(lambda x: 1 if (x>3)  else 0)\n"
      ],
      "execution_count": 12,
      "outputs": []
    },
    {
      "cell_type": "markdown",
      "metadata": {
        "button": false,
        "new_sheet": false,
        "run_control": {
          "read_only": false
        },
        "id": "ztm60fA7A9T8",
        "colab_type": "text"
      },
      "source": [
        "## Convert Categorical features to numerical values"
      ]
    },
    {
      "cell_type": "markdown",
      "metadata": {
        "button": false,
        "new_sheet": false,
        "run_control": {
          "read_only": false
        },
        "id": "Tx_SjgWJA9T_",
        "colab_type": "text"
      },
      "source": [
        "Lets look at gender:"
      ]
    },
    {
      "cell_type": "code",
      "metadata": {
        "button": false,
        "new_sheet": false,
        "run_control": {
          "read_only": false
        },
        "id": "nIKQxWe4A9UB",
        "colab_type": "code",
        "colab": {
          "base_uri": "https://localhost:8080/",
          "height": 117
        },
        "outputId": "d6aefa45-6d72-4dbf-b116-29900a108e4e"
      },
      "source": [
        "#use grouby function on Gender and loan_status along with value_counts\n",
        "\n",
        "\n",
        "\n",
        "df.groupby('Gender')['loan_status'].value_counts()\n",
        "\n"
      ],
      "execution_count": 13,
      "outputs": [
        {
          "output_type": "execute_result",
          "data": {
            "text/plain": [
              "Gender  loan_status\n",
              "0       1               45\n",
              "        0                7\n",
              "1       1              215\n",
              "        0               79\n",
              "Name: loan_status, dtype: int64"
            ]
          },
          "metadata": {
            "tags": []
          },
          "execution_count": 13
        }
      ]
    },
    {
      "cell_type": "markdown",
      "metadata": {
        "button": false,
        "new_sheet": false,
        "run_control": {
          "read_only": false
        },
        "id": "dn9VmRJPA9UH",
        "colab_type": "text"
      },
      "source": [
        "86 % of female pay there loans while only 73 % of males pay there loan\n"
      ]
    },
    {
      "cell_type": "markdown",
      "metadata": {
        "button": false,
        "new_sheet": false,
        "run_control": {
          "read_only": false
        },
        "id": "uFoU-mQyA9UJ",
        "colab_type": "text"
      },
      "source": [
        "Lets convert male to 0 and female to 1:\n"
      ]
    },
    {
      "cell_type": "code",
      "metadata": {
        "button": false,
        "new_sheet": false,
        "run_control": {
          "read_only": false
        },
        "id": "51Dm1kCCA9UK",
        "colab_type": "code",
        "colab": {}
      },
      "source": [
        "df['Gender']=pd.get_dummies(df['Gender'],drop_first=True)\n",
        "\n"
      ],
      "execution_count": 14,
      "outputs": []
    },
    {
      "cell_type": "markdown",
      "metadata": {
        "button": false,
        "new_sheet": false,
        "run_control": {
          "read_only": false
        },
        "id": "wrpX9dZrA9UQ",
        "colab_type": "text"
      },
      "source": [
        "## One Hot Encoding  \n",
        "#### How about education?"
      ]
    },
    {
      "cell_type": "code",
      "metadata": {
        "button": false,
        "new_sheet": false,
        "run_control": {
          "read_only": false
        },
        "id": "bcfJXr2IA9US",
        "colab_type": "code",
        "colab": {
          "base_uri": "https://localhost:8080/",
          "height": 184
        },
        "outputId": "03283f5a-41f0-480c-bd89-132f68bb8440"
      },
      "source": [
        "#use grouby function on education and loan_status along with value_counts\n",
        "\n",
        "df.groupby('education')['loan_status'].value_counts()"
      ],
      "execution_count": 15,
      "outputs": [
        {
          "output_type": "execute_result",
          "data": {
            "text/plain": [
              "education  loan_status\n",
              "0          1               33\n",
              "           0               11\n",
              "1          1              112\n",
              "           0               39\n",
              "2          0                1\n",
              "           1                1\n",
              "3          1              114\n",
              "           0               35\n",
              "Name: loan_status, dtype: int64"
            ]
          },
          "metadata": {
            "tags": []
          },
          "execution_count": 15
        }
      ]
    },
    {
      "cell_type": "markdown",
      "metadata": {
        "button": false,
        "new_sheet": false,
        "run_control": {
          "read_only": false
        },
        "id": "_3bAb1kiA9UZ",
        "colab_type": "text"
      },
      "source": [
        "#### Feature before One Hot Encoding"
      ]
    },
    {
      "cell_type": "code",
      "metadata": {
        "button": false,
        "new_sheet": false,
        "run_control": {
          "read_only": false
        },
        "id": "4CJzx1TCA9Uc",
        "colab_type": "code",
        "colab": {}
      },
      "source": [
        "#select what features you want to include in your dataframe\n",
        "df.drop(['Unnamed: 0','Unnamed: 0.1','effective_date',\t'due_date'],inplace=True,axis=1)\n",
        "\n",
        "\n",
        "\n"
      ],
      "execution_count": 16,
      "outputs": []
    },
    {
      "cell_type": "markdown",
      "metadata": {
        "button": false,
        "new_sheet": false,
        "run_control": {
          "read_only": false
        },
        "id": "gH98CuCjA9Um",
        "colab_type": "text"
      },
      "source": [
        "#### Use one hot encoding technique to conver categorical varables to binary variables and append them to the feature Data Frame "
      ]
    },
    {
      "cell_type": "code",
      "metadata": {
        "button": false,
        "new_sheet": false,
        "run_control": {
          "read_only": false
        },
        "id": "12AsdyuhA9Uo",
        "colab_type": "code",
        "colab": {}
      },
      "source": [
        "df1=pd.get_dummies(data=df, columns=['education'])"
      ],
      "execution_count": 17,
      "outputs": []
    },
    {
      "cell_type": "code",
      "metadata": {
        "id": "sWDWE4jn1B9U",
        "colab_type": "code",
        "colab": {
          "base_uri": "https://localhost:8080/",
          "height": 196
        },
        "outputId": "a4652dbe-f962-43b0-a55a-50a78effd5e9"
      },
      "source": [
        "df1.head()"
      ],
      "execution_count": 18,
      "outputs": [
        {
          "output_type": "execute_result",
          "data": {
            "text/html": [
              "<div>\n",
              "<style scoped>\n",
              "    .dataframe tbody tr th:only-of-type {\n",
              "        vertical-align: middle;\n",
              "    }\n",
              "\n",
              "    .dataframe tbody tr th {\n",
              "        vertical-align: top;\n",
              "    }\n",
              "\n",
              "    .dataframe thead th {\n",
              "        text-align: right;\n",
              "    }\n",
              "</style>\n",
              "<table border=\"1\" class=\"dataframe\">\n",
              "  <thead>\n",
              "    <tr style=\"text-align: right;\">\n",
              "      <th></th>\n",
              "      <th>loan_status</th>\n",
              "      <th>Principal</th>\n",
              "      <th>terms</th>\n",
              "      <th>age</th>\n",
              "      <th>Gender</th>\n",
              "      <th>education_0</th>\n",
              "      <th>education_1</th>\n",
              "      <th>education_2</th>\n",
              "      <th>education_3</th>\n",
              "    </tr>\n",
              "  </thead>\n",
              "  <tbody>\n",
              "    <tr>\n",
              "      <th>0</th>\n",
              "      <td>1</td>\n",
              "      <td>1000</td>\n",
              "      <td>30</td>\n",
              "      <td>45</td>\n",
              "      <td>1</td>\n",
              "      <td>0</td>\n",
              "      <td>1</td>\n",
              "      <td>0</td>\n",
              "      <td>0</td>\n",
              "    </tr>\n",
              "    <tr>\n",
              "      <th>1</th>\n",
              "      <td>1</td>\n",
              "      <td>1000</td>\n",
              "      <td>30</td>\n",
              "      <td>33</td>\n",
              "      <td>0</td>\n",
              "      <td>1</td>\n",
              "      <td>0</td>\n",
              "      <td>0</td>\n",
              "      <td>0</td>\n",
              "    </tr>\n",
              "    <tr>\n",
              "      <th>2</th>\n",
              "      <td>1</td>\n",
              "      <td>1000</td>\n",
              "      <td>15</td>\n",
              "      <td>27</td>\n",
              "      <td>1</td>\n",
              "      <td>0</td>\n",
              "      <td>0</td>\n",
              "      <td>0</td>\n",
              "      <td>1</td>\n",
              "    </tr>\n",
              "    <tr>\n",
              "      <th>3</th>\n",
              "      <td>1</td>\n",
              "      <td>1000</td>\n",
              "      <td>30</td>\n",
              "      <td>28</td>\n",
              "      <td>0</td>\n",
              "      <td>0</td>\n",
              "      <td>0</td>\n",
              "      <td>0</td>\n",
              "      <td>1</td>\n",
              "    </tr>\n",
              "    <tr>\n",
              "      <th>4</th>\n",
              "      <td>1</td>\n",
              "      <td>1000</td>\n",
              "      <td>30</td>\n",
              "      <td>29</td>\n",
              "      <td>1</td>\n",
              "      <td>0</td>\n",
              "      <td>0</td>\n",
              "      <td>0</td>\n",
              "      <td>1</td>\n",
              "    </tr>\n",
              "  </tbody>\n",
              "</table>\n",
              "</div>"
            ],
            "text/plain": [
              "   loan_status  Principal  terms  ...  education_1  education_2  education_3\n",
              "0            1       1000     30  ...            1            0            0\n",
              "1            1       1000     30  ...            0            0            0\n",
              "2            1       1000     15  ...            0            0            1\n",
              "3            1       1000     30  ...            0            0            1\n",
              "4            1       1000     30  ...            0            0            1\n",
              "\n",
              "[5 rows x 9 columns]"
            ]
          },
          "metadata": {
            "tags": []
          },
          "execution_count": 18
        }
      ]
    },
    {
      "cell_type": "markdown",
      "metadata": {
        "button": false,
        "new_sheet": false,
        "run_control": {
          "read_only": false
        },
        "id": "BQZvMb1SA9Uv",
        "colab_type": "text"
      },
      "source": [
        "### Feature selection"
      ]
    },
    {
      "cell_type": "markdown",
      "metadata": {
        "button": false,
        "new_sheet": false,
        "run_control": {
          "read_only": false
        },
        "id": "5nhS51XUA9Ux",
        "colab_type": "text"
      },
      "source": [
        "Lets defind feature sets, X:"
      ]
    },
    {
      "cell_type": "code",
      "metadata": {
        "button": false,
        "new_sheet": false,
        "run_control": {
          "read_only": false
        },
        "id": "VrzS-SAvA9Uy",
        "colab_type": "code",
        "colab": {}
      },
      "source": [
        "#define x\n",
        "\n",
        "X=df1.iloc[:,:].values\n",
        "\n"
      ],
      "execution_count": 19,
      "outputs": []
    },
    {
      "cell_type": "markdown",
      "metadata": {
        "button": false,
        "new_sheet": false,
        "run_control": {
          "read_only": false
        },
        "id": "K61DJ5X0A9U6",
        "colab_type": "text"
      },
      "source": [
        "What are our lables?"
      ]
    },
    {
      "cell_type": "code",
      "metadata": {
        "button": false,
        "new_sheet": false,
        "run_control": {
          "read_only": false
        },
        "id": "jQsS5jXvA9U8",
        "colab_type": "code",
        "colab": {}
      },
      "source": [
        "#define y\n",
        "y = df.pop('loan_status')\n"
      ],
      "execution_count": 20,
      "outputs": []
    },
    {
      "cell_type": "markdown",
      "metadata": {
        "button": false,
        "new_sheet": false,
        "run_control": {
          "read_only": false
        },
        "id": "gEBJ-Ra1A9VD",
        "colab_type": "text"
      },
      "source": [
        "## Normalize Data "
      ]
    },
    {
      "cell_type": "markdown",
      "metadata": {
        "button": false,
        "new_sheet": false,
        "run_control": {
          "read_only": false
        },
        "id": "w-M8GjdRA9VE",
        "colab_type": "text"
      },
      "source": [
        "Data Standardization give data zero mean and unit variance (technically should be done after train test split )"
      ]
    },
    {
      "cell_type": "code",
      "metadata": {
        "button": false,
        "new_sheet": false,
        "run_control": {
          "read_only": false
        },
        "id": "uWf6ZazRA9VG",
        "colab_type": "code",
        "colab": {}
      },
      "source": [
        "\n",
        "#Train-Test split\n",
        "from sklearn.model_selection import train_test_split\n",
        "X_train, X_test, y_train, y_test = train_test_split(X,y, test_size = 0.2, random_state = 42)\n",
        "\n"
      ],
      "execution_count": 24,
      "outputs": []
    },
    {
      "cell_type": "markdown",
      "metadata": {
        "id": "Tg-KZIxcF9fP",
        "colab_type": "text"
      },
      "source": [
        "# Come to conclusion whether its classification/clustering"
      ]
    },
    {
      "cell_type": "code",
      "metadata": {
        "id": "ACqZHlQlGI0u",
        "colab_type": "code",
        "colab": {
          "base_uri": "https://localhost:8080/",
          "height": 128
        },
        "outputId": "72e2d66f-1a61-4583-bbfd-bc87d7510b4e"
      },
      "source": [
        "# write your answer here\n",
        "\n",
        "CLASSIFICATION PROBLEM\n"
      ],
      "execution_count": 22,
      "outputs": [
        {
          "output_type": "error",
          "ename": "SyntaxError",
          "evalue": "ignored",
          "traceback": [
            "\u001b[0;36m  File \u001b[0;32m\"<ipython-input-22-46117a6053fb>\"\u001b[0;36m, line \u001b[0;32m3\u001b[0m\n\u001b[0;31m    CLASSIFICATION PROBLEM\u001b[0m\n\u001b[0m                         ^\u001b[0m\n\u001b[0;31mSyntaxError\u001b[0m\u001b[0;31m:\u001b[0m invalid syntax\n"
          ]
        }
      ]
    },
    {
      "cell_type": "markdown",
      "metadata": {
        "button": false,
        "new_sheet": false,
        "run_control": {
          "read_only": false
        },
        "id": "YwapqMWJA9VN",
        "colab_type": "text"
      },
      "source": [
        "#    **apply machine learning algorithms related to classification/clustering (only 1 for now)** and evaluate the algorithm using different matrices\n"
      ]
    },
    {
      "cell_type": "markdown",
      "metadata": {
        "id": "GC4P6eMpYO9T",
        "colab_type": "text"
      },
      "source": [
        "Choose any one of the Machine Learning Algorithm:\n",
        "\n",
        "**1.k-nearest neighbors |\n",
        "2.Decision trees  |\n",
        "3.Support Vector Machine  |\n",
        "4.Logistic Regression |**  \n"
      ]
    },
    {
      "cell_type": "markdown",
      "metadata": {
        "id": "MrMdiLKmYTRB",
        "colab_type": "text"
      },
      "source": [
        "Now, it is your turn, use the training set to build an accurate model. \n",
        "\n",
        "__ Notice:__ \n",
        "- You can go above and change the pre-processing, feature selection, feature-extraction, and so on, to make a better model."
      ]
    },
    {
      "cell_type": "markdown",
      "metadata": {
        "id": "idPQSWZLA9VQ",
        "colab_type": "text"
      },
      "source": [
        "# K Nearest Neighbor(KNN)\n",
        "Notice: You should find the best k to build the model with the best accuracy.  \n",
        "**warning:** You should not use the __loan_test.csv__ for finding the best k, however, you can split your train_loan.csv into train and test to find the best __k__."
      ]
    },
    {
      "cell_type": "markdown",
      "metadata": {
        "id": "spknL5IZA9V1",
        "colab_type": "text"
      },
      "source": [
        "## Finding the best k neighbors to improve  accuracy of the model"
      ]
    },
    {
      "cell_type": "code",
      "metadata": {
        "id": "GfEr3FJRY6Qs",
        "colab_type": "code",
        "colab": {
          "base_uri": "https://localhost:8080/",
          "height": 50
        },
        "outputId": "fb4c83fd-9907-405a-aa0a-3ba50053a11d"
      },
      "source": [
        "# Feature Scaling\n",
        "from sklearn.preprocessing import StandardScaler\n",
        "sc = StandardScaler()\n",
        "X_train = sc.fit_transform(X_train)\n",
        "X_test = sc.transform(X_test)\n",
        "\n",
        "# Training the K-NN model on the Training set\n",
        "from sklearn.neighbors import KNeighborsClassifier\n",
        "classifier = KNeighborsClassifier(n_neighbors = 5, metric = 'minkowski', p = 2)\n",
        "classifier.fit(X_train, y_train)\n",
        "\n",
        "# Predicting the Test set results\n",
        "y_pred = classifier.predict(X_test)\n",
        "\n",
        "# Making the Confusion Matrix\n",
        "from sklearn.metrics import confusion_matrix\n",
        "cm = confusion_matrix(y_test, y_pred)\n",
        "print(cm)"
      ],
      "execution_count": 25,
      "outputs": [
        {
          "output_type": "stream",
          "text": [
            "[[11  3]\n",
            " [ 0 56]]\n"
          ],
          "name": "stdout"
        }
      ]
    },
    {
      "cell_type": "markdown",
      "metadata": {
        "id": "aUaQT-xxA9WO",
        "colab_type": "text"
      },
      "source": [
        "# Decision Tree"
      ]
    },
    {
      "cell_type": "code",
      "metadata": {
        "id": "91omd7ixY9Ku",
        "colab_type": "code",
        "colab": {
          "base_uri": "https://localhost:8080/",
          "height": 50
        },
        "outputId": "b7b1414d-ae3b-45a4-b312-6490054edb86"
      },
      "source": [
        "#decision tree\n",
        "from sklearn import tree\n",
        "dt = tree.DecisionTreeClassifier()\n",
        "dt.fit(data_train, label_train)\n",
        "dt_score_train = dt.score(X_train, y_train)\n",
        "print(\"Training score: \",dt_score_train)\n",
        "dt_score_test = dt.score(X_test, y_test)\n",
        "print(\"Testing score: \",dt_score_test)"
      ],
      "execution_count": 26,
      "outputs": [
        {
          "output_type": "stream",
          "text": [
            "Training score:  1.0\n",
            "Testing score:  1.0\n"
          ],
          "name": "stdout"
        }
      ]
    },
    {
      "cell_type": "markdown",
      "metadata": {
        "id": "Cij6Mc7GA9Wp",
        "colab_type": "text"
      },
      "source": [
        "# Support Vector Machine"
      ]
    },
    {
      "cell_type": "code",
      "metadata": {
        "id": "vsuvbOPfdecS",
        "colab_type": "code",
        "colab": {
          "base_uri": "https://localhost:8080/",
          "height": 50
        },
        "outputId": "1fa92af5-bb48-4d72-8f73-51a61ee140f2"
      },
      "source": [
        "# Feature Scaling\n",
        "from sklearn.preprocessing import StandardScaler\n",
        "sc = StandardScaler()\n",
        "X_train = sc.fit_transform(X_train)\n",
        "X_test = sc.transform(X_test)\n",
        "\n",
        "# Training the SVM model on the Training set\n",
        "from sklearn.svm import SVC\n",
        "classifier = SVC(kernel = 'linear', random_state = 0)\n",
        "classifier.fit(X_train, y_train)\n",
        "\n",
        "# Predicting the Test set results\n",
        "y_pred = classifier.predict(X_test)\n",
        "\n",
        "# Making the Confusion Matrix\n",
        "from sklearn.metrics import confusion_matrix\n",
        "cm = confusion_matrix(y_test, y_pred)\n",
        "print(cm)"
      ],
      "execution_count": 27,
      "outputs": [
        {
          "output_type": "stream",
          "text": [
            "[[14  0]\n",
            " [ 0 56]]\n"
          ],
          "name": "stdout"
        }
      ]
    },
    {
      "cell_type": "markdown",
      "metadata": {
        "id": "5LJScU3_A9W-",
        "colab_type": "text"
      },
      "source": [
        "### evaluation by using  f1_score , jaccard-index"
      ]
    },
    {
      "cell_type": "code",
      "metadata": {
        "id": "la_fSBqldfOj",
        "colab_type": "code",
        "colab": {
          "base_uri": "https://localhost:8080/",
          "height": 104
        },
        "outputId": "ca3ad6d9-37d9-4eab-d3cd-f404a7a2a37b"
      },
      "source": [
        "\n",
        "from sklearn.metrics import jaccard_similarity_score\n",
        "\n",
        "jaccard_svm = jaccard_similarity_score(y_test, y_pred)\n",
        "print(\"Support Vector Machine(SVM) Jaccard index: \", jaccard_svm)\n",
        "from sklearn.metrics import f1_score\n",
        "\n",
        "f1_score_svm = f1_score(y_test, y_pred, average='weighted')\n",
        "print(\"Support Vector Machine(SVM) F1-score: \", f1_score_svm)"
      ],
      "execution_count": 38,
      "outputs": [
        {
          "output_type": "stream",
          "text": [
            "Support Vector Machine(SVM) Jaccard index:  1.0\n",
            "Support Vector Machine(SVM) F1-score:  1.0\n"
          ],
          "name": "stdout"
        },
        {
          "output_type": "stream",
          "text": [
            "/usr/local/lib/python3.6/dist-packages/sklearn/metrics/_classification.py:664: FutureWarning: jaccard_similarity_score has been deprecated and replaced with jaccard_score. It will be removed in version 0.23. This implementation has surprising behavior for binary and multiclass classification tasks.\n",
            "  FutureWarning)\n"
          ],
          "name": "stderr"
        }
      ]
    },
    {
      "cell_type": "markdown",
      "metadata": {
        "id": "xy_-B1MpA9XO",
        "colab_type": "text"
      },
      "source": [
        "# Logistic Regression"
      ]
    },
    {
      "cell_type": "code",
      "metadata": {
        "id": "QkwdCq3Gdb6p",
        "colab_type": "code",
        "colab": {
          "base_uri": "https://localhost:8080/",
          "height": 204
        },
        "outputId": "5a04ee48-4f09-47e7-f877-f1f96864915f"
      },
      "source": [
        "#Logistic Regression\n",
        "from sklearn.linear_model import LogisticRegression\n",
        "logis = LogisticRegression()\n",
        "logis.fit(data_train, label_train)\n",
        "logis_score_train = logis.score(X_train, y_train)\n",
        "\n",
        "\n",
        "print(\"Training score: \",logis_score_train)\n",
        "\n",
        "logis_score_test = logis.score(X_train, y_train)\n",
        "print(\"Testing score: \",logis_score_test)"
      ],
      "execution_count": 39,
      "outputs": [
        {
          "output_type": "stream",
          "text": [
            "Training score:  1.0\n",
            "Testing score:  1.0\n"
          ],
          "name": "stdout"
        },
        {
          "output_type": "stream",
          "text": [
            "/usr/local/lib/python3.6/dist-packages/sklearn/linear_model/_logistic.py:940: ConvergenceWarning: lbfgs failed to converge (status=1):\n",
            "STOP: TOTAL NO. of ITERATIONS REACHED LIMIT.\n",
            "\n",
            "Increase the number of iterations (max_iter) or scale the data as shown in:\n",
            "    https://scikit-learn.org/stable/modules/preprocessing.html\n",
            "Please also refer to the documentation for alternative solver options:\n",
            "    https://scikit-learn.org/stable/modules/linear_model.html#logistic-regression\n",
            "  extra_warning_msg=_LOGISTIC_SOLVER_CONVERGENCE_MSG)\n"
          ],
          "name": "stderr"
        }
      ]
    },
    {
      "cell_type": "markdown",
      "metadata": {
        "id": "KCDkIg-PA9Xk",
        "colab_type": "text"
      },
      "source": [
        "### evaluation using f1_score , jaccard_index , log_loss"
      ]
    },
    {
      "cell_type": "code",
      "metadata": {
        "id": "6bbURoAGdcsa",
        "colab_type": "code",
        "colab": {
          "base_uri": "https://localhost:8080/",
          "height": 104
        },
        "outputId": "a134942d-5b8c-4b9c-f2a3-073a1a608ad2"
      },
      "source": [
        "#from sklearn import jaccard_similarity_score\n",
        "\n",
        "jaccard_log = jaccard_similarity_score(y_test, y_pred)\n",
        "print(\"KNN Jaccard index: \", jaccard_log)\n",
        "\n",
        "f1_score_log = f1_score(y_test, y_pred, average='weighted')\n",
        "print(\"LG F1-score: \", f1_score_log)\n",
        "\n"
      ],
      "execution_count": 42,
      "outputs": [
        {
          "output_type": "stream",
          "text": [
            "KNN Jaccard index:  1.0\n",
            "LG F1-score:  1.0\n"
          ],
          "name": "stdout"
        },
        {
          "output_type": "stream",
          "text": [
            "/usr/local/lib/python3.6/dist-packages/sklearn/metrics/_classification.py:664: FutureWarning: jaccard_similarity_score has been deprecated and replaced with jaccard_score. It will be removed in version 0.23. This implementation has surprising behavior for binary and multiclass classification tasks.\n",
            "  FutureWarning)\n"
          ],
          "name": "stderr"
        }
      ]
    },
    {
      "cell_type": "code",
      "metadata": {
        "id": "OXKt3GKEZcCh",
        "colab_type": "code",
        "colab": {
          "base_uri": "https://localhost:8080/",
          "height": 120
        },
        "outputId": "9b153fca-6257-460b-f4aa-0a2bfbab09d7"
      },
      "source": [
        "yhat_logReg = logis.predict(X_test)\n",
        "yhat_logReg_prob = logis.predict_proba(X_test)\n",
        "\n",
        "jaccard_logReg = jaccard_similarity_score(y_test, yhat_logReg)\n",
        "\n",
        "print(\"Logistic Regression Jaccard index: \", jaccard_logReg)\n",
        "f1_score_logReg = f1_score(y_test, yhat_logReg, average='weighted')\n",
        "\n",
        "print(\"Logistic Regression F1-score: \", f1_score_logReg)\n",
        "\n",
        "\n",
        "from sklearn.metrics import log_loss\n",
        "\n",
        "logloss_logReg = log_loss(y_test, yhat_logReg_prob)\n",
        "\n",
        "print(\"Logistic Regression log loss: \", logloss_logReg)\n",
        "\n"
      ],
      "execution_count": 45,
      "outputs": [
        {
          "output_type": "stream",
          "text": [
            "Logistic Regression Jaccard index:  1.0\n",
            "Logistic Regression F1-score:  1.0\n",
            "Logistic Regression log loss:  0.0268809700566645\n"
          ],
          "name": "stdout"
        },
        {
          "output_type": "stream",
          "text": [
            "/usr/local/lib/python3.6/dist-packages/sklearn/metrics/_classification.py:664: FutureWarning: jaccard_similarity_score has been deprecated and replaced with jaccard_score. It will be removed in version 0.23. This implementation has surprising behavior for binary and multiclass classification tasks.\n",
            "  FutureWarning)\n"
          ],
          "name": "stderr"
        }
      ]
    }
  ]
}